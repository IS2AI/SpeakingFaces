{
 "cells": [
  {
   "cell_type": "code",
   "execution_count": 1,
   "id": "62062386-4b70-4add-b05a-c5049045bf86",
   "metadata": {},
   "outputs": [],
   "source": [
    "import cv2 \n",
    "import os"
   ]
  },
  {
   "cell_type": "code",
   "execution_count": 2,
   "id": "2a174059-775d-40f5-9bea-ad596ff9e2df",
   "metadata": {},
   "outputs": [],
   "source": [
    "def make_dir(dirName):\n",
    "    if not os.path.exists(dirName):\n",
    "        os.makedirs(dirName, exist_ok=True)\n",
    "        print(\"[INFO] Directory \", dirName,  \" created\")\n",
    "    else:\n",
    "        print(\"[INFO] Directory \", dirName,  \" already exists\") "
   ]
  },
  {
   "cell_type": "code",
   "execution_count": 3,
   "id": "b6563305-1ebf-4bab-9e9f-ff6e86e28061",
   "metadata": {},
   "outputs": [
    {
     "data": {
      "text/plain": [
       "8100"
      ]
     },
     "execution_count": 3,
     "metadata": {},
     "output_type": "execute_result"
    }
   ],
   "source": [
    "sub_id = 1 # 1-142\n",
    "trial_id = 1 # 1/2\n",
    "image_type = \"rgb_image_aligned\" # \"rgb_image\", \"thr_image\", \"rgb_image_aligned\",\n",
    "\n",
    "image_folder = \"/home/admin2/Downloads/SpeakingFaces/image_only/sub_{}_io/trial_{}/{}/\".format(sub_id, trial_id, image_type) # path to images\n",
    "\n",
    "images = [img for img in os.listdir(image_folder) if img.endswith(\".png\")]\n",
    "\n",
    "len(images)"
   ]
  },
  {
   "cell_type": "code",
   "execution_count": 4,
   "id": "6824ebbd-681a-4908-a71e-d2802ff9f5d3",
   "metadata": {},
   "outputs": [
    {
     "name": "stdout",
     "output_type": "stream",
     "text": [
      "[INFO] Directory  /home/admin2/Downloads/SpeakingFaces/image_only/sub_1_io/trial_1/rgb_aligned_video/  created\n"
     ]
    }
   ],
   "source": [
    "# path to save videos\n",
    "video_folder = \"/home/admin2/Downloads/SpeakingFaces/image_only/sub_{}_io/trial_{}/{}_video/\".format(sub_id, \n",
    "                                                                                                     trial_id, \n",
    "                                                                                                     \"_\".join([image_type.split(\"_\")[0],\n",
    "                                                                                                              image_type.split(\"_\")[-1]])) \n",
    "make_dir(video_folder)\n",
    "\n",
    "fps = 30  # Frames per second\n",
    "fourcc = cv2.VideoWriter_fourcc(*'mp4v') # Codec for MP4"
   ]
  },
  {
   "cell_type": "code",
   "execution_count": 5,
   "id": "0487cc94-7f8f-440b-94a8-9e812337d925",
   "metadata": {},
   "outputs": [
    {
     "name": "stdout",
     "output_type": "stream",
     "text": [
      "(464, 348)\n"
     ]
    }
   ],
   "source": [
    "# Read an image to get dimensions\n",
    "image = cv2.imread(os.path.join(image_folder, images[0]))\n",
    "height, width, depth = image.shape\n",
    "size = (width, height)\n",
    "print(size)"
   ]
  },
  {
   "cell_type": "code",
   "execution_count": 6,
   "id": "ee40b823-a526-46af-bec1-1297b8d79072",
   "metadata": {},
   "outputs": [],
   "source": [
    "dic = {}\n",
    "\n",
    "# count number of frames per pose\n",
    "for image_name in images:\n",
    "    sub_id, trial_id, session_id, pose_id, frame_id, camera_id = image_name.split(\"_\")\n",
    "    if pose_id in dic:\n",
    "        dic[pose_id] += 1\n",
    "    else:\n",
    "        dic[pose_id] = 1"
   ]
  },
  {
   "cell_type": "code",
   "execution_count": 7,
   "id": "d091f485-26c4-413d-9732-ebde818ea9d6",
   "metadata": {},
   "outputs": [
    {
     "data": {
      "text/plain": [
       "{'1': 900,\n",
       " '3': 900,\n",
       " '9': 900,\n",
       " '5': 900,\n",
       " '8': 900,\n",
       " '6': 900,\n",
       " '2': 900,\n",
       " '4': 900,\n",
       " '7': 900}"
      ]
     },
     "execution_count": 7,
     "metadata": {},
     "output_type": "execute_result"
    }
   ],
   "source": [
    "dic"
   ]
  },
  {
   "cell_type": "code",
   "execution_count": 8,
   "id": "059613f6-d0b7-4b7d-ac26-7514a5a458bf",
   "metadata": {},
   "outputs": [],
   "source": [
    "if image_type == \"thr_image\":\n",
    "    camera_id = 1\n",
    "elif image_type == \"rgb_image\":\n",
    "    camera_id = 2\n",
    "else:\n",
    "    camera_id = 3"
   ]
  },
  {
   "cell_type": "code",
   "execution_count": 9,
   "id": "8660b291-bcf9-4974-98dd-94dee3fb7911",
   "metadata": {},
   "outputs": [
    {
     "name": "stdout",
     "output_type": "stream",
     "text": [
      "Created: 1_1_1.mp4\n",
      "Created: 1_1_3.mp4\n",
      "Created: 1_1_9.mp4\n",
      "Created: 1_1_5.mp4\n",
      "Created: 1_1_8.mp4\n",
      "Created: 1_1_6.mp4\n",
      "Created: 1_1_2.mp4\n",
      "Created: 1_1_4.mp4\n",
      "Created: 1_1_7.mp4\n"
     ]
    }
   ],
   "source": [
    "for pose, frames in dic.items():\n",
    "    video_path = os.path.join(video_folder, '{}_{}_{}.mp4'.format(sub_id, trial_id, pose))\n",
    "    out = cv2.VideoWriter(video_path, fourcc, fps, size)\n",
    "    \n",
    "    for i in range(1, frames+1):\n",
    "        image_name = \"{}_{}_1_{}_{}_{}.png\".format(sub_id, trial_id, pose, i, camera_id)\n",
    "        image_path = os.path.join(image_folder, image_name) \n",
    "        frame = cv2.imread(image_path)\n",
    "        out.write(frame)\n",
    "        \n",
    "    out.release()\n",
    "    print(\"Created:\", video_path.split('/')[-1])    "
   ]
  },
  {
   "cell_type": "code",
   "execution_count": null,
   "id": "ae857da5-7707-4d82-80e9-793e64a43f08",
   "metadata": {},
   "outputs": [],
   "source": []
  }
 ],
 "metadata": {
  "kernelspec": {
   "display_name": "Python 3",
   "language": "python",
   "name": "python3"
  },
  "language_info": {
   "codemirror_mode": {
    "name": "ipython",
    "version": 3
   },
   "file_extension": ".py",
   "mimetype": "text/x-python",
   "name": "python",
   "nbconvert_exporter": "python",
   "pygments_lexer": "ipython3",
   "version": "3.8.10"
  }
 },
 "nbformat": 4,
 "nbformat_minor": 5
}
