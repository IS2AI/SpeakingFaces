{
 "cells": [
  {
   "cell_type": "code",
   "execution_count": 1,
   "id": "62062386-4b70-4add-b05a-c5049045bf86",
   "metadata": {},
   "outputs": [],
   "source": [
    "import cv2 \n",
    "import os"
   ]
  },
  {
   "cell_type": "code",
   "execution_count": 2,
   "id": "2a174059-775d-40f5-9bea-ad596ff9e2df",
   "metadata": {},
   "outputs": [],
   "source": [
    "def make_dir(dirName):\n",
    "    if not os.path.exists(dirName):\n",
    "        os.makedirs(dirName, exist_ok=True)\n",
    "        print(\"[INFO] Directory \", dirName,  \" created\")\n",
    "    else:\n",
    "        print(\"[INFO] Directory \", dirName,  \" already exists\") "
   ]
  },
  {
   "cell_type": "code",
   "execution_count": 3,
   "id": "b6563305-1ebf-4bab-9e9f-ff6e86e28061",
   "metadata": {},
   "outputs": [
    {
     "data": {
      "text/plain": [
       "5212"
      ]
     },
     "execution_count": 3,
     "metadata": {},
     "output_type": "execute_result"
    }
   ],
   "source": [
    "sub_id = 1 # 1-142\n",
    "trial_id = 1 # 1/2\n",
    "image_type = \"rgb_image_cmd_aligned\" # \"rgb_image_cmd\", \"thr_image_cmd\", \"rgb_image_cmd_aligned\",\n",
    "\n",
    "image_folder = \"/home/admin2/Downloads/SpeakingFaces/image_audio/sub_{}_ia/trial_{}/{}/\".format(sub_id, trial_id, image_type) # path to images\n",
    "\n",
    "images = [img for img in os.listdir(image_folder) if img.endswith(\".png\")]\n",
    "\n",
    "len(images)"
   ]
  },
  {
   "cell_type": "code",
   "execution_count": 4,
   "id": "6824ebbd-681a-4908-a71e-d2802ff9f5d3",
   "metadata": {},
   "outputs": [
    {
     "name": "stdout",
     "output_type": "stream",
     "text": [
      "[INFO] Directory  /home/admin2/Downloads/SpeakingFaces/image_audio/sub_1_ia/trial_1/rgb_image_video/  created\n"
     ]
    }
   ],
   "source": [
    "# path to save videos\n",
    "if image_type == \"rgb_image_cmd_aligned\":\n",
    "    video_folder = \"/home/admin2/Downloads/SpeakingFaces/image_audio/sub_{}_ia/trial_{}/{}_video/\".format(sub_id, \n",
    "                                                                                                         trial_id, \n",
    "                                                                                                         \"_\".join([image_type.split(\"_\")[0],\n",
    "                                                                                                                   image_type.split(\"_\")[1],\n",
    "                                                                                                                   image_type.split(\"_\")[-1]])) \n",
    "else:\n",
    "    video_folder = \"/home/admin2/Downloads/SpeakingFaces/image_audio/sub_{}_ia/trial_{}/{}_video/\".format(sub_id, \n",
    "                                                                                                     trial_id, \n",
    "                                                                                                     \"_\".join([image_type.split(\"_\")[0],\n",
    "                                                                                                              image_type.split(\"_\")[1]])) \n",
    "make_dir(video_folder)\n",
    "\n",
    "fps = 30  # Frames per second\n",
    "fourcc = cv2.VideoWriter_fourcc(*'mp4v') # Codec for MP4"
   ]
  },
  {
   "cell_type": "code",
   "execution_count": 5,
   "id": "0487cc94-7f8f-440b-94a8-9e812337d925",
   "metadata": {},
   "outputs": [
    {
     "name": "stdout",
     "output_type": "stream",
     "text": [
      "(768, 512)\n"
     ]
    }
   ],
   "source": [
    "# Read an image to get dimensions\n",
    "image = cv2.imread(os.path.join(image_folder, images[0]))\n",
    "height, width, depth = image.shape\n",
    "size = (width, height)\n",
    "print(size)"
   ]
  },
  {
   "cell_type": "code",
   "execution_count": 6,
   "id": "ee40b823-a526-46af-bec1-1297b8d79072",
   "metadata": {},
   "outputs": [],
   "source": [
    "dic = {}\n",
    "\n",
    "# count number of frames per command\n",
    "for image_name in images:\n",
    "    sub_id, trial_id, session_id, pose_id, command_id, frame_id, camera_id = image_name.split(\"_\")\n",
    "    if pose_id in dic:\n",
    "        if command_id in dic[pose_id]:\n",
    "            dic[pose_id][command_id] += 1\n",
    "        else:\n",
    "            dic[pose_id][command_id] = 1\n",
    "    else:\n",
    "        dic[pose_id] = {}"
   ]
  },
  {
   "cell_type": "code",
   "execution_count": 7,
   "id": "d091f485-26c4-413d-9732-ebde818ea9d6",
   "metadata": {},
   "outputs": [
    {
     "data": {
      "text/plain": [
       "{'4': {'905': 79, '1208': 93, '601': 79, '1029': 79, '1055': 101, '74': 114},\n",
       " '6': {'1267': 127, '1287': 174, '1245': 112, '347': 157},\n",
       " '1': {'831': 128, '779': 80, '1097': 161, '603': 118, '574': 116},\n",
       " '3': {'24': 116, '516': 112, '93': 119, '1269': 144, '257': 112},\n",
       " '8': {'931': 121, '482': 186, '245': 105, '1000': 101},\n",
       " '9': {'996': 98, '37': 153, '493': 135, '997': 100, '65': 87},\n",
       " '5': {'1038': 195, '8': 124, '86': 145, '1178': 111},\n",
       " '7': {'930': 100, '611': 72, '1220': 201, '217': 123, '865': 112},\n",
       " '2': {'701': 160, '1031': 134, '69': 134, '673': 95, '1213': 90}}"
      ]
     },
     "execution_count": 7,
     "metadata": {},
     "output_type": "execute_result"
    }
   ],
   "source": [
    "dic"
   ]
  },
  {
   "cell_type": "code",
   "execution_count": 8,
   "id": "059613f6-d0b7-4b7d-ac26-7514a5a458bf",
   "metadata": {},
   "outputs": [],
   "source": [
    "if image_type == \"thr_image_cmd\":\n",
    "    camera_id = 1\n",
    "elif image_type == \"rgb_image_cmd\":\n",
    "    camera_id = 2\n",
    "else:\n",
    "    camera_id = 3"
   ]
  },
  {
   "cell_type": "code",
   "execution_count": 9,
   "id": "8660b291-bcf9-4974-98dd-94dee3fb7911",
   "metadata": {},
   "outputs": [
    {
     "name": "stdout",
     "output_type": "stream",
     "text": [
      "Created: 1_1_4_905.mp4\n",
      "Created: 1_1_4_1208.mp4\n",
      "Created: 1_1_4_601.mp4\n",
      "Created: 1_1_4_1029.mp4\n",
      "Created: 1_1_4_1055.mp4\n",
      "Created: 1_1_4_74.mp4\n",
      "Created: 1_1_6_1267.mp4\n",
      "Created: 1_1_6_1287.mp4\n",
      "Created: 1_1_6_1245.mp4\n",
      "Created: 1_1_6_347.mp4\n",
      "Created: 1_1_1_831.mp4\n",
      "Created: 1_1_1_779.mp4\n",
      "Created: 1_1_1_1097.mp4\n",
      "Created: 1_1_1_603.mp4\n",
      "Created: 1_1_1_574.mp4\n",
      "Created: 1_1_3_24.mp4\n",
      "Created: 1_1_3_516.mp4\n",
      "Created: 1_1_3_93.mp4\n",
      "Created: 1_1_3_1269.mp4\n",
      "Created: 1_1_3_257.mp4\n",
      "Created: 1_1_8_931.mp4\n",
      "Created: 1_1_8_482.mp4\n",
      "Created: 1_1_8_245.mp4\n",
      "Created: 1_1_8_1000.mp4\n",
      "Created: 1_1_9_996.mp4\n",
      "Created: 1_1_9_37.mp4\n",
      "Created: 1_1_9_493.mp4\n",
      "Created: 1_1_9_997.mp4\n",
      "Created: 1_1_9_65.mp4\n",
      "Created: 1_1_5_1038.mp4\n",
      "Created: 1_1_5_8.mp4\n",
      "Created: 1_1_5_86.mp4\n",
      "Created: 1_1_5_1178.mp4\n",
      "Created: 1_1_7_930.mp4\n",
      "Created: 1_1_7_611.mp4\n",
      "Created: 1_1_7_1220.mp4\n",
      "Created: 1_1_7_217.mp4\n",
      "Created: 1_1_7_865.mp4\n",
      "Created: 1_1_2_701.mp4\n",
      "Created: 1_1_2_1031.mp4\n",
      "Created: 1_1_2_69.mp4\n",
      "Created: 1_1_2_673.mp4\n",
      "Created: 1_1_2_1213.mp4\n"
     ]
    }
   ],
   "source": [
    "for pose, values in dic.items():\n",
    "    for cmd, frames in values.items():\n",
    "        video_path = os.path.join(video_folder, '{}_{}_{}_{}.mp4'.format(sub_id, trial_id, pose, cmd))\n",
    "        out = cv2.VideoWriter(video_path, fourcc, fps, size)\n",
    "    \n",
    "        for i in range(1, frames+1):\n",
    "            image_name = \"{}_{}_2_{}_{}_{}_{}.png\".format(sub_id, trial_id, pose, cmd, i, camera_id)\n",
    "            image_path = os.path.join(image_folder, image_name) \n",
    "            frame = cv2.imread(image_path)\n",
    "            out.write(frame)\n",
    "        \n",
    "        out.release()\n",
    "        print(\"Created:\", video_path.split('/')[-1])    "
   ]
  },
  {
   "cell_type": "code",
   "execution_count": null,
   "id": "7c2660b8-7d4d-41d3-8cc1-863250f9256b",
   "metadata": {},
   "outputs": [],
   "source": []
  }
 ],
 "metadata": {
  "kernelspec": {
   "display_name": "Python 3",
   "language": "python",
   "name": "python3"
  },
  "language_info": {
   "codemirror_mode": {
    "name": "ipython",
    "version": 3
   },
   "file_extension": ".py",
   "mimetype": "text/x-python",
   "name": "python",
   "nbconvert_exporter": "python",
   "pygments_lexer": "ipython3",
   "version": "3.8.10"
  }
 },
 "nbformat": 4,
 "nbformat_minor": 5
}
